{
 "cells": [
  {
   "cell_type": "code",
   "execution_count": 1,
   "id": "8fc66476",
   "metadata": {},
   "outputs": [
    {
     "name": "stdout",
     "output_type": "stream",
     "text": [
      "Shipments data shape: (4000, 5)\n",
      "\n",
      "Shipments data columns: ['shipID', 'plannedShipDate', 'actualShipDate', 'partID', 'quantity']\n",
      "\n",
      "First few rows of shipments data:\n",
      "   shipID plannedShipDate actualShipDate       partID  quantity\n",
      "0   10001      2013-11-06     2013-10-04  part92b16c5         6\n",
      "1   10002      2013-10-15     2013-10-04   part66983b         2\n",
      "2   10003      2013-10-25     2013-10-07  part8e36f25         1\n",
      "3   10004      2013-10-14     2013-10-08  part30f5de0         1\n",
      "4   10005      2013-10-14     2013-10-08  part9d64d35         6\n",
      "5   10006      2013-10-14     2013-10-08  part6cd6167        15\n",
      "6   10007      2013-10-14     2013-10-08  parta4d5fd1         2\n",
      "7   10008      2013-10-14     2013-10-08  part08cadf5         1\n",
      "8   10009      2013-10-14     2013-10-08  part5cc4989        10\n",
      "9   10010      2013-10-14     2013-10-08  part912ae4c         1\n",
      "\n",
      "==================================================\n",
      "Product line data shape: (11997, 3)\n",
      "\n",
      "Product line data columns: ['partID', 'productLine', 'prodCategory']\n",
      "\n",
      "First few rows of product line data:\n",
      "        partID productLine prodCategory\n",
      "0  part00005ba      line4c      Liquids\n",
      "1  part000b57d      line61     Machines\n",
      "2  part00123bf      linec1  Marketables\n",
      "3  part0021fc9      line61     Machines\n",
      "4  part0027e86      line2f     Machines\n",
      "5  part002ed95      line4c      Liquids\n",
      "6  part0030856      lineb8     Machines\n",
      "7  part0033dfd      line49      Liquids\n",
      "8  part0037a2a      linea3  Marketables\n",
      "9  part003caee      linea3  Marketables\n"
     ]
    }
   ],
   "source": [
    "import pandas as pd\n",
    "import numpy as np\n",
    "import matplotlib.pyplot as plt\n",
    "import seaborn as sns\n",
    "from datetime import datetime, timedelta\n",
    "\n",
    "# Load the shipment data\n",
    "shipments_df = pd.read_csv(\n",
    "    \"https://raw.githubusercontent.com/flyaflya/persuasive/main/shipments.csv\", \n",
    "    parse_dates=['plannedShipDate', 'actualShipDate']\n",
    ")\n",
    "\n",
    "# Load product line data\n",
    "product_line_df = pd.read_csv(\n",
    "    \"https://raw.githubusercontent.com/flyaflya/persuasive/main/productLine.csv\"\n",
    ")\n",
    "\n",
    "# Reduce dataset size for faster processing (4,000 rows instead of 96,805 rows)\n",
    "shipments_df = shipments_df.head(4000)\n",
    "\n",
    "print(\"Shipments data shape:\", shipments_df.shape)\n",
    "print(\"\\nShipments data columns:\", shipments_df.columns.tolist())\n",
    "print(\"\\nFirst few rows of shipments data:\")\n",
    "print(shipments_df.head(10))\n",
    "\n",
    "print(\"\\n\" + \"=\"*50)\n",
    "print(\"Product line data shape:\", product_line_df.shape)\n",
    "print(\"\\nProduct line data columns:\", product_line_df.columns.tolist())\n",
    "print(\"\\nFirst few rows of product line data:\")\n",
    "print(product_line_df.head(10))"
   ]
  },
  {
   "cell_type": "code",
   "execution_count": 4,
   "id": "a992df76",
   "metadata": {},
   "outputs": [
    {
     "name": "stdout",
     "output_type": "stream",
     "text": [
      "Added lateness calculations:\n",
      "   shipID plannedShipDate actualShipDate  is_late  days_late\n",
      "0   10001      2013-11-06     2013-10-04    False        -33\n",
      "1   10002      2013-10-15     2013-10-04    False        -11\n",
      "2   10003      2013-10-25     2013-10-07    False        -18\n",
      "3   10004      2013-10-14     2013-10-08    False         -6\n",
      "4   10005      2013-10-14     2013-10-08    False         -6\n"
     ]
    },
    {
     "data": {
      "text/plain": [
       "shipID                      int64\n",
       "plannedShipDate    datetime64[ns]\n",
       "actualShipDate     datetime64[ns]\n",
       "partID                     object\n",
       "quantity                    int64\n",
       "is_late                      bool\n",
       "days_late                   int64\n",
       "dtype: object"
      ]
     },
     "execution_count": 4,
     "metadata": {},
     "output_type": "execute_result"
    }
   ],
   "source": [
    "# Simple assignment - calculate if shipment was late\n",
    "shipments_with_lateness = (\n",
    "    shipments_df\n",
    "    .assign(\n",
    "        is_late=lambda df: df['actualShipDate'] > df['plannedShipDate'],\n",
    "        days_late=lambda df: (df['actualShipDate'] - df['plannedShipDate']).dt.days\n",
    "    )\n",
    ")\n",
    "\n",
    "print(\"Added lateness calculations:\")\n",
    "print(shipments_with_lateness[['shipID', 'plannedShipDate', 'actualShipDate', 'is_late', 'days_late']].head())\n",
    "shipments_with_lateness.dtypes"
   ]
  }
 ],
 "metadata": {
  "kernelspec": {
   "display_name": ".venv",
   "language": "python",
   "name": "python3"
  },
  "language_info": {
   "codemirror_mode": {
    "name": "ipython",
    "version": 3
   },
   "file_extension": ".py",
   "mimetype": "text/x-python",
   "name": "python",
   "nbconvert_exporter": "python",
   "pygments_lexer": "ipython3",
   "version": "3.14.0"
  }
 },
 "nbformat": 4,
 "nbformat_minor": 5
}
